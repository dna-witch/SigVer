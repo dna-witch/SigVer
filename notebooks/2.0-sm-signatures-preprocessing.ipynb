{
 "cells": [
  {
   "cell_type": "markdown",
   "metadata": {},
   "source": [
    "# Preprocessing Pt.1"
   ]
  },
  {
   "cell_type": "markdown",
   "metadata": {},
   "source": [
    "## Load Necessary Libraries and Packages"
   ]
  },
  {
   "cell_type": "code",
   "execution_count": 1,
   "metadata": {},
   "outputs": [],
   "source": [
    "import numpy as np\n",
    "import os, sys\n",
    "import shutil\n",
    "import pickle # use this to pickle the completed pipeline and then run on training set\n",
    "\n",
    "import matplotlib.pyplot as plt\n",
    "%matplotlib inline\n",
    "\n",
    "import cv2\n",
    "import itertools\n",
    "import time\n",
    "import random\n",
    "from PIL import Image"
   ]
  },
  {
   "cell_type": "markdown",
   "metadata": {},
   "source": [
    "## Load the Data"
   ]
  },
  {
   "cell_type": "code",
   "execution_count": 2,
   "metadata": {},
   "outputs": [
    {
     "name": "stdout",
     "output_type": "stream",
     "text": [
      "['1', '2', '3', '4', '5', '6', '7', '8', '9', '10', '11', '12', '13', '14', '15', '16', '17', '18', '19', '20', '21', '22', '23', '24', '25', '26', '27', '28', '29', '30', '31', '32', '33', '34', '35', '36', '37', '38', '39', '40', '41', '42', '43', '44', '45', '46', '47', '48', '49', '50', '51', '52', '53', '54', '55']\n"
     ]
    }
   ],
   "source": [
    "path = \"./data/raw/CEDAR/\"\n",
    "# get list of all directories\n",
    "dir_list = next(os.walk(path))[1]\n",
    "dir_list.sort(key=int) # sort all of the directories from 1 to 55\n",
    "print(dir_list)"
   ]
  },
  {
   "cell_type": "code",
   "execution_count": 3,
   "metadata": {},
   "outputs": [],
   "source": [
    "originals = []\n",
    "forgeries = []\n",
    "\n",
    "for folder in dir_list:\n",
    "    images = os.listdir(path+folder)\n",
    "    images.sort()\n",
    "    images = [path+folder+'/'+x for x in images]\n",
    "    forgeries.append(images[:24]) # First 24 images in each folder are forgeries\n",
    "    originals.append(images[24:])"
   ]
  },
  {
   "cell_type": "code",
   "execution_count": 4,
   "metadata": {},
   "outputs": [
    {
     "data": {
      "text/plain": [
       "['./data/raw/CEDAR/3/forgeries_3_1.png',\n",
       " './data/raw/CEDAR/3/forgeries_3_10.png',\n",
       " './data/raw/CEDAR/3/forgeries_3_11.png',\n",
       " './data/raw/CEDAR/3/forgeries_3_12.png',\n",
       " './data/raw/CEDAR/3/forgeries_3_13.png',\n",
       " './data/raw/CEDAR/3/forgeries_3_14.png',\n",
       " './data/raw/CEDAR/3/forgeries_3_15.png',\n",
       " './data/raw/CEDAR/3/forgeries_3_16.png',\n",
       " './data/raw/CEDAR/3/forgeries_3_17.png',\n",
       " './data/raw/CEDAR/3/forgeries_3_18.png',\n",
       " './data/raw/CEDAR/3/forgeries_3_19.png',\n",
       " './data/raw/CEDAR/3/forgeries_3_2.png',\n",
       " './data/raw/CEDAR/3/forgeries_3_20.png',\n",
       " './data/raw/CEDAR/3/forgeries_3_21.png',\n",
       " './data/raw/CEDAR/3/forgeries_3_22.png',\n",
       " './data/raw/CEDAR/3/forgeries_3_23.png',\n",
       " './data/raw/CEDAR/3/forgeries_3_24.png',\n",
       " './data/raw/CEDAR/3/forgeries_3_3.png',\n",
       " './data/raw/CEDAR/3/forgeries_3_4.png',\n",
       " './data/raw/CEDAR/3/forgeries_3_5.png',\n",
       " './data/raw/CEDAR/3/forgeries_3_6.png',\n",
       " './data/raw/CEDAR/3/forgeries_3_7.png',\n",
       " './data/raw/CEDAR/3/forgeries_3_8.png',\n",
       " './data/raw/CEDAR/3/forgeries_3_9.png']"
      ]
     },
     "execution_count": 4,
     "metadata": {},
     "output_type": "execute_result"
    }
   ],
   "source": [
    "forgeries[2]"
   ]
  },
  {
   "cell_type": "markdown",
   "metadata": {},
   "source": [
    "## Train-Test-Validation Split"
   ]
  },
  {
   "cell_type": "markdown",
   "metadata": {},
   "source": [
    "Out of the 55 individuals, I will be splitting them up into three sets: training, test, and validation. \n",
    "The training set will have 33 individuals. The test set will have 11 individuals, and the validation set will have 11 individuals."
   ]
  },
  {
   "cell_type": "code",
   "execution_count": 6,
   "metadata": {},
   "outputs": [],
   "source": [
    "train_set = []\n",
    "\n",
    "# choose 33 random #s from the total 55 to be the training set\n",
    "while len(train_set) < 33:\n",
    "    n = random.randint(1, 55)\n",
    "    if not n in train_set:\n",
    "        train_set.append(n)\n",
    "    if n in train_set:\n",
    "        continue"
   ]
  },
  {
   "cell_type": "code",
   "execution_count": 7,
   "metadata": {},
   "outputs": [
    {
     "data": {
      "text/plain": [
       "33"
      ]
     },
     "execution_count": 7,
     "metadata": {},
     "output_type": "execute_result"
    }
   ],
   "source": [
    "len(train_set)"
   ]
  },
  {
   "cell_type": "code",
   "execution_count": 8,
   "metadata": {},
   "outputs": [
    {
     "data": {
      "text/plain": [
       "[1,\n",
       " 2,\n",
       " 3,\n",
       " 6,\n",
       " 7,\n",
       " 8,\n",
       " 9,\n",
       " 10,\n",
       " 12,\n",
       " 14,\n",
       " 16,\n",
       " 17,\n",
       " 18,\n",
       " 21,\n",
       " 22,\n",
       " 24,\n",
       " 26,\n",
       " 28,\n",
       " 31,\n",
       " 32,\n",
       " 33,\n",
       " 34,\n",
       " 35,\n",
       " 36,\n",
       " 40,\n",
       " 42,\n",
       " 43,\n",
       " 44,\n",
       " 46,\n",
       " 49,\n",
       " 50,\n",
       " 51,\n",
       " 53]"
      ]
     },
     "execution_count": 8,
     "metadata": {},
     "output_type": "execute_result"
    }
   ],
   "source": [
    "train_set.sort()\n",
    "train_set"
   ]
  },
  {
   "cell_type": "code",
   "execution_count": 9,
   "metadata": {},
   "outputs": [],
   "source": [
    "total_inds = list(range(1, 56))\n",
    "remainder = list(set(total_inds) - set(train_set))"
   ]
  },
  {
   "cell_type": "code",
   "execution_count": 10,
   "metadata": {},
   "outputs": [],
   "source": [
    "test_set = []\n",
    "# choose 11 random #s from the remaining 22 to be the test set\n",
    "while len(test_set) < 11:\n",
    "    n = random.choice(remainder)\n",
    "    if not n in test_set:\n",
    "        test_set.append(n)\n",
    "    if n in test_set:\n",
    "        continue"
   ]
  },
  {
   "cell_type": "code",
   "execution_count": 11,
   "metadata": {},
   "outputs": [],
   "source": [
    "validation_set = list(set(remainder) - set(test_set))"
   ]
  },
  {
   "cell_type": "code",
   "execution_count": 12,
   "metadata": {},
   "outputs": [],
   "source": [
    "### make new folders to store train, test, and validation image sets\n",
    "\n",
    "parent_dir = \"./data/interim/\"\n",
    "train_dir = \"train\"\n",
    "train_path = os.path.join(parent_dir, train_dir)\n",
    "#os.mkdir(train_path)\n",
    "\n",
    "test_dir = \"test\"\n",
    "test_path = os.path.join(parent_dir, test_dir)\n",
    "#os.mkdir(test_path)\n",
    "\n",
    "val_dir = \"validation\"\n",
    "val_path = os.path.join(parent_dir, val_dir)\n",
    "#os.mkdir(val_path)"
   ]
  },
  {
   "cell_type": "code",
   "execution_count": 14,
   "metadata": {},
   "outputs": [],
   "source": [
    "# shutil.move(source, destination, copy_function = copy2)\n",
    "\n",
    "# sort appropriate images to train, test, and validation sets\n",
    "\n",
    "for folder in train_set:\n",
    "    path = \"./data/raw/CEDAR/\"\n",
    "    source = path+str(folder)\n",
    "    destination = \"./data/interim/train/\"\n",
    "    \n",
    "    shutil.move(source, destination) \n",
    "    "
   ]
  },
  {
   "cell_type": "code",
   "execution_count": 15,
   "metadata": {},
   "outputs": [],
   "source": [
    "for folder in test_set:\n",
    "    path = \"./data/raw/CEDAR/\"\n",
    "    source = path+str(folder)\n",
    "    destination = \"./data/interim/test/\"\n",
    "    \n",
    "    shutil.move(source, destination) "
   ]
  },
  {
   "cell_type": "code",
   "execution_count": 16,
   "metadata": {},
   "outputs": [],
   "source": [
    "for folder in validation_set:\n",
    "    path = \"./data/raw/CEDAR/\"\n",
    "    source = path+str(folder)\n",
    "    destination = \"./data/interim/validation/\"\n",
    "    \n",
    "    shutil.move(source, destination)"
   ]
  }
 ],
 "metadata": {
  "kernelspec": {
   "display_name": "Python 3",
   "language": "python",
   "name": "python3"
  },
  "language_info": {
   "codemirror_mode": {
    "name": "ipython",
    "version": 3
   },
   "file_extension": ".py",
   "mimetype": "text/x-python",
   "name": "python",
   "nbconvert_exporter": "python",
   "pygments_lexer": "ipython3",
   "version": "3.8.3"
  }
 },
 "nbformat": 4,
 "nbformat_minor": 4
}
